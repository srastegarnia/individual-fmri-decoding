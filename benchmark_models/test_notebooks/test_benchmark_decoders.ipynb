{
 "cells": [
  {
   "cell_type": "code",
   "execution_count": null,
   "metadata": {},
   "outputs": [],
   "source": [
    "import sys\n",
    "import os\n",
    "sys.path.append(os.path.join(\"..\"))\n",
    "import benchmark_decoders\n",
    "import visualization"
   ]
  },
  {
   "cell_type": "code",
   "execution_count": null,
   "metadata": {},
   "outputs": [],
   "source": [
    "subject = 'sub-01' # ['sub-01','sub-02','sub-03','sub-04','sub-05','sub-06']\n",
    "modalities = ['emotion','language','motor','relational','social','wm']\n",
    "decoders = ['mlp'] #,'mlp','knn','random_forest'\n",
    "HRFlag_process = '3volumes' # ['3volumes','2-1volumes','without']"
   ]
  },
  {
   "cell_type": "code",
   "execution_count": null,
   "metadata": {},
   "outputs": [],
   "source": [
    "region_approach = 'dypac' # ['MIST','difumo','dypac','volume']\n",
    "resolution = 256\n",
    "\n",
    "benchmark_decoders.postproc_benchmark_decoder(subject, modalities, decoders,\n",
    "                                              region_approach, HRFlag_process, resolution)"
   ]
  },
  {
   "cell_type": "code",
   "execution_count": null,
   "metadata": {},
   "outputs": [],
   "source": [
    "region_approach = 'MIST'\n",
    "resolution = 444\n",
    "\n",
    "benchmark_decoders.postproc_benchmark_decoder(subject, modalities, decoders,\n",
    "                                              region_approach, HRFlag_process, resolution)"
   ]
  },
  {
   "cell_type": "code",
   "execution_count": null,
   "metadata": {},
   "outputs": [],
   "source": []
  }
 ],
 "metadata": {
  "kernelspec": {
   "display_name": "benchmark_env",
   "language": "python",
   "name": "benchmark_env"
  },
  "language_info": {
   "codemirror_mode": {
    "name": "ipython",
    "version": 3
   },
   "file_extension": ".py",
   "mimetype": "text/x-python",
   "name": "python",
   "nbconvert_exporter": "python",
   "pygments_lexer": "ipython3",
   "version": "3.6.9"
  }
 },
 "nbformat": 4,
 "nbformat_minor": 4
}
