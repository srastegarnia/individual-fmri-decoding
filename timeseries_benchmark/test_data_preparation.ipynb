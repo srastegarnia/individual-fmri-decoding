{
 "cells": [
  {
   "cell_type": "code",
   "execution_count": 1,
   "metadata": {},
   "outputs": [],
   "source": [
    "import hcptrt_data_preparation\n",
    "from load_confounds import Params9"
   ]
  },
  {
   "cell_type": "code",
   "execution_count": 2,
   "metadata": {},
   "outputs": [],
   "source": [
    "# Test variables\n",
    "\n",
    "subject = 'sub-01'\n",
    "modality = 'wm'\n",
    "confounds = Params9()"
   ]
  },
  {
   "cell_type": "code",
   "execution_count": 3,
   "metadata": {},
   "outputs": [
    {
     "name": "stdout",
     "output_type": "stream",
     "text": [
      "The number of bold files: 15\n",
      "### Reading Nifiti files is done!\n",
      "-------------------------------------------------\n",
      "The number of events files: 15\n",
      "### Reading events files is done!\n",
      "-----------------------------------------------\n",
      "Events and fMRI files are Consistent.\n",
      "### Cheking data is done!\n",
      "-----------------------------------------------\n",
      "### Concatenating fMRI & events files is done!\n",
      "-----------------------------------------------\n",
      "### HRF lag labeling is done!\n",
      "-----------------------------------------------\n",
      "### Final volume label file is generated from events files!\n",
      "File path: /home/SRastegarnia/hcptrt_decoding_Shima/hcptrt_decoding/timeseries_benchmark/outputs/wm_final_labels.csv\n",
      "-----------------------------------------------\n",
      "### Final numpy.ndarray file is generated from fMRI files!\n",
      "File path: /home/SRastegarnia/hcptrt_decoding_Shima/hcptrt_decoding/timeseries_benchmark/outputs/wm_final_fMRI.npy\n"
     ]
    }
   ],
   "source": [
    "# Data preperation\n",
    "\n",
    "bold_files, masker, data_path = hcptrt_data_preparation.load_fmri_data(subject, modality, confounds)\n",
    "\n",
    "events_files = hcptrt_data_preparation.load_events_files(subject, modality)\n",
    "\n",
    "hcptrt_data_preparation.check_input(bold_files, events_files)\n",
    "\n",
    "flat_bold_files, flat_volume_labels = hcptrt_data_preparation.volume_labeling(bold_files, events_files, confounds, \n",
    "                                                                              subject, modality, masker, data_path)\n",
    "\n",
    "HRFlag_volume_labels = hcptrt_data_preparation.HRFlag_labeling(flat_volume_labels)\n",
    "\n",
    "final_volume_labels, final_bold_files = hcptrt_data_preparation.unwanted_label_removal(events_files, \n",
    "                                                    HRFlag_volume_labels, flat_bold_files, modality)"
   ]
  }
 ],
 "metadata": {
  "kernelspec": {
   "display_name": "benchmark_env",
   "language": "python",
   "name": "benchmark_env"
  },
  "language_info": {
   "codemirror_mode": {
    "name": "ipython",
    "version": 3
   },
   "file_extension": ".py",
   "mimetype": "text/x-python",
   "name": "python",
   "nbconvert_exporter": "python",
   "pygments_lexer": "ipython3",
   "version": "3.6.9"
  }
 },
 "nbformat": 4,
 "nbformat_minor": 4
}
