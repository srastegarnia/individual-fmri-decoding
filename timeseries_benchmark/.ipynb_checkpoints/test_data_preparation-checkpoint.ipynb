{
 "cells": [
  {
   "cell_type": "code",
   "execution_count": 2,
   "metadata": {},
   "outputs": [],
   "source": [
    "import hcptrt_data_preparation\n",
    "from load_confounds import Params9"
   ]
  },
  {
   "cell_type": "code",
   "execution_count": 3,
   "metadata": {},
   "outputs": [],
   "source": [
    "# Test variables\n",
    "\n",
    "subject = 'sub-01'\n",
    "modality = 'motor'\n",
    "confounds = Params9()"
   ]
  },
  {
   "cell_type": "code",
   "execution_count": 4,
   "metadata": {},
   "outputs": [
    {
     "name": "stdout",
     "output_type": "stream",
     "text": [
      "The number of bold files: 15\n"
     ]
    },
    {
     "name": "stderr",
     "output_type": "stream",
     "text": [
      "/home/SRastegarnia/.virtualenvs/benchmark_env/lib/python3.6/site-packages/numpy/core/_asarray.py:136: VisibleDeprecationWarning: Creating an ndarray from ragged nested sequences (which is a list-or-tuple of lists-or-tuples-or ndarrays with different lengths or shapes) is deprecated. If you meant to do this, you must specify 'dtype=object' when creating the ndarray\n",
      "  return array(a, dtype, copy=False, order=order, subok=True)\n"
     ]
    },
    {
     "name": "stdout",
     "output_type": "stream",
     "text": [
      "### Reading Nifiti files is done!\n",
      "-------------------------------------------------\n",
      "The number of events files: 15\n",
      "### Reading events files is done!\n",
      "-----------------------------------------------\n",
      "The bold file number 4 had 16 extra volumes\n",
      "Events and fMRI files are Consistent.\n",
      "### Cheking data is done!\n",
      "-----------------------------------------------\n",
      "### Concatenating fMRI & events files is done!\n",
      "-----------------------------------------------\n",
      "### HRF lag labeling is done!\n",
      "-----------------------------------------------\n"
     ]
    },
    {
     "ename": "NameError",
     "evalue": "name 'unwanted_label_removal' is not defined",
     "output_type": "error",
     "traceback": [
      "\u001b[0;31m---------------------------------------------------------------------------\u001b[0m",
      "\u001b[0;31mNameError\u001b[0m                                 Traceback (most recent call last)",
      "\u001b[0;32m<ipython-input-4-bb88a422c58d>\u001b[0m in \u001b[0;36m<module>\u001b[0;34m\u001b[0m\n\u001b[1;32m     11\u001b[0m \u001b[0mHRFlag_volume_labels\u001b[0m \u001b[0;34m=\u001b[0m \u001b[0mhcptrt_data_preparation\u001b[0m\u001b[0;34m.\u001b[0m\u001b[0mHRFlag_labeling\u001b[0m\u001b[0;34m(\u001b[0m\u001b[0mflat_volume_labels\u001b[0m\u001b[0;34m)\u001b[0m\u001b[0;34m\u001b[0m\u001b[0;34m\u001b[0m\u001b[0m\n\u001b[1;32m     12\u001b[0m \u001b[0;34m\u001b[0m\u001b[0m\n\u001b[0;32m---> 13\u001b[0;31m final_volume_labels, final_bold_files = unwanted_label_removal(events_files, HRFlag_volume_labels, \n\u001b[0m\u001b[1;32m     14\u001b[0m                                                                flat_bold_files, modality)\n",
      "\u001b[0;31mNameError\u001b[0m: name 'unwanted_label_removal' is not defined"
     ]
    }
   ],
   "source": [
    "# Data preperation\n",
    "\n",
    "bold_files, bold_outname  = hcptrt_data_preparation.load_fmri_data(subject, modality, confounds)\n",
    "\n",
    "events_files = hcptrt_data_preparation.load_events_files(subject, modality)\n",
    "\n",
    "hcptrt_data_preparation.check_input(bold_files, events_files)\n",
    "\n",
    "flat_bold_files, flat_volume_labels = hcptrt_data_preparation.volume_labeling(bold_files, events_files, \n",
    "                                                                 confounds, subject, modality)\n",
    "HRFlag_volume_labels = hcptrt_data_preparation.HRFlag_labeling(flat_volume_labels)\n",
    "\n",
    "final_volume_labels, final_bold_files = hcptrt_data_preparation.unwanted_label_removal(events_files, \n",
    "                                                    HRFlag_volume_labels, flat_bold_files, modality)"
   ]
  },
  {
   "cell_type": "code",
   "execution_count": null,
   "metadata": {},
   "outputs": [],
   "source": [
    "# import numpy as np\n",
    "\n",
    "# print('shape of flat_bold_files:', np.shape(flat_bold_files))\n",
    "# print(type(flat_bold_files))"
   ]
  },
  {
   "cell_type": "code",
   "execution_count": null,
   "metadata": {},
   "outputs": [],
   "source": [
    "# import numpy as np\n",
    "# import os\n",
    "# import glob\n",
    "# import h5py\n",
    "# import matplotlib.pyplot as plt\n",
    "# from load_confounds import Params9, Params24\n",
    "# from nilearn.input_data import NiftiLabelsMasker\n",
    "# import pandas as pd\n",
    "# import utils\n",
    "# from sklearn import preprocessing\n",
    "# from sklearn.preprocessing import StandardScaler, LabelEncoder, OneHotEncoder\n",
    "# from sklearn.model_selection import GridSearchCV, LeaveOneGroupOut, cross_val_score, train_test_split\n",
    "# from sklearn.svm import SVC\n",
    "# from numpy import savetxt\n",
    "# from keras.models import Sequential\n",
    "# from keras.layers import Dense\n",
    "# from sklearn.metrics import classification_report, accuracy_score, confusion_matrix\n",
    "# from nilearn.plotting import plot_anat, show, plot_stat_map, plot_matrix\n",
    "# from sklearn.neural_network import MLPClassifier"
   ]
  },
  {
   "cell_type": "code",
   "execution_count": null,
   "metadata": {},
   "outputs": [],
   "source": [
    "# def unwanted_label_removal(events_files, HRFlag_volume_labels, flat_bold_files, modality):\n",
    "                                                                    \n",
    "#     out_path = '/home/SRastegarnia/hcptrt_decoding_Shima/hcptrt_decoding/timeseries_benchmark/outputs/'\n",
    "#     categories = list(events_files[0].trial_type)\n",
    "#     unwanted = {'countdown','cross_fixation','Cue','new_bloc_right_hand', \n",
    "#                 'new_bloc_right_foot','new_bloc_left_foot','new_bloc_tongue', \n",
    "#                 'new_bloc_left_hand','new_bloc_control','new_bloc_relational',\n",
    "#                 'new_bloc_shape','new_bloc_face', 'countdown_nan','Cue_nan', \n",
    "#                 'HRF_lag', 'null'}\n",
    "    \n",
    "#     categories = [c for c in categories if c not in unwanted]\n",
    "#     conditions = list(set(categories))\n",
    "#     num_cond = len(set(categories))\n",
    "    \n",
    "#     final_volume_labels = []\n",
    "# #     parcel_no = np.shape(flat_bold_files[1])[0]\n",
    "#     parcel_no = 444\n",
    "#     final_bold_files = np.empty((0, parcel_no), int)\n",
    "\n",
    "#     for i in range (0, len(HRFlag_volume_labels)):\n",
    "#         if (HRFlag_volume_labels[i] not in unwanted):\n",
    "#             final_volume_labels.append(HRFlag_volume_labels[i])\n",
    "#             final_bold_files = np.append(final_bold_files, \n",
    "#                                          np.array([flat_bold_files[i,:]]), axis=0)\n",
    "    \n",
    "#     final_label_path = out_path + modality +'_final_labels.csv'\n",
    "#     df_lable = pd.DataFrame(final_volume_labels)\n",
    "#     df_lable.to_csv(final_label_path, header=None)\n",
    "\n",
    "#     final_fMRI_path = out_path + modality + '_final_fMRI.npy'\n",
    "#     np.save(final_fMRI_path, final_bold_files) \n",
    "    \n",
    "#     print('### Final volume label is done!')\n",
    "#     print('File path:', final_label_path)\n",
    "#     print('-----------------------------------------------')\n",
    "#     print('### Final nifti file is done!')\n",
    "#     print('File path:', final_fMRI_path)\n",
    "\n",
    "#     return final_volume_labels, final_bold_files"
   ]
  },
  {
   "cell_type": "code",
   "execution_count": null,
   "metadata": {},
   "outputs": [],
   "source": [
    "# out_path = '/home/SRastegarnia/hcptrt_decoding_Shima/hcptrt_decoding/timeseries_benchmark/outputs/'\n",
    "# final_volume_labels, final_bold_files = unwanted_label_removal(events_files, HRFlag_volume_labels, \n",
    "#                                                                flat_bold_files, modality)"
   ]
  },
  {
   "cell_type": "code",
   "execution_count": null,
   "metadata": {},
   "outputs": [],
   "source": []
  }
 ],
 "metadata": {
  "kernelspec": {
   "display_name": "benchmark_env",
   "language": "python",
   "name": "benchmark_env"
  },
  "language_info": {
   "codemirror_mode": {
    "name": "ipython",
    "version": 3
   },
   "file_extension": ".py",
   "mimetype": "text/x-python",
   "name": "python",
   "nbconvert_exporter": "python",
   "pygments_lexer": "ipython3",
   "version": "3.6.9"
  }
 },
 "nbformat": 4,
 "nbformat_minor": 4
}
